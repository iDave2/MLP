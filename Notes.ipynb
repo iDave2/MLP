{
 "cells": [
  {
   "cell_type": "markdown",
   "metadata": {},
   "source": [
    "# Multilayer Perceptron (MLP)\n",
    "\n",
    "Hello, Jupyter.\n",
    "\n",
    "## v0.1 Data\n",
    "\n",
    "This initial commit was about getting the data to the browser as a sequence of `(image, label)` pairs which I am calling `elements`.  So big review of nodejs, especially Streams and Promises.  Result is a presentation of elements that may be scrolled or, since no-one wants to scroll 60,000 elements, to jump to a given element index in the MNIST database.  This provides some confidence that we are accessing the correct data.  With streams, it also uses less than 13KB in browser (if a *minimize memory* option is used) although node may hold a 64KB file buffer underneath.\n",
    "\n",
    "![scrollbar](web/images/scrollbar.png \"Scrollbar Example\")\n",
    "\n",
    "<img src=\"web/images/scrollbar.png\" alt=\"Scrollbar\" style=\"width: 80%;\"/>\n",
    "\n",
    "## v0.2 Next\n",
    "\n",
    "Text..."
   ]
  },
  {
   "cell_type": "code",
   "execution_count": null,
   "metadata": {},
   "outputs": [],
   "source": []
  },
  {
   "cell_type": "code",
   "execution_count": null,
   "metadata": {},
   "outputs": [],
   "source": []
  }
 ],
 "metadata": {
  "kernelspec": {
   "display_name": "Python 3",
   "language": "python",
   "name": "python3"
  },
  "language_info": {
   "codemirror_mode": {
    "name": "ipython",
    "version": 3
   },
   "file_extension": ".py",
   "mimetype": "text/x-python",
   "name": "python",
   "nbconvert_exporter": "python",
   "pygments_lexer": "ipython3",
   "version": "3.7.3"
  }
 },
 "nbformat": 4,
 "nbformat_minor": 2
}
